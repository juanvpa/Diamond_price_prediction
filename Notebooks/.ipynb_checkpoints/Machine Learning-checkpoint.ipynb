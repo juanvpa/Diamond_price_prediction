{
 "cells": [
  {
   "cell_type": "markdown",
   "id": "985bc839",
   "metadata": {},
   "source": [
    "**IMPORTAMOS LIBRERIAS**"
   ]
  },
  {
   "cell_type": "code",
   "execution_count": 1,
   "id": "bfd61838",
   "metadata": {},
   "outputs": [],
   "source": [
    "import pandas as pd\n",
    "from sklearn.model_selection import train_test_split as tts\n",
    "from sklearn.linear_model import LinearRegression as LinReg\n",
    "from sklearn.linear_model import Ridge, Lasso\n",
    "from sklearn.linear_model import SGDRegressor\n",
    "from sklearn.neighbors import KNeighborsRegressor\n",
    "from sklearn.ensemble import GradientBoostingRegressor\n",
    "from sklearn.tree import DecisionTreeRegressor\n",
    "from sklearn.ensemble import RandomForestRegressor\n",
    "from sklearn.metrics import mean_squared_error, r2_score\n",
    "from sklearn.svm import SVR\n",
    "from sklearn.tree import plot_tree\n",
    "from sklearn import metrics\n",
    "import numpy as np"
   ]
  },
  {
   "cell_type": "markdown",
   "id": "4e544af9",
   "metadata": {},
   "source": [
    "**IMPORTAMOS AMBOS CSV**        \n",
    "    - Train           \n",
    "    - Test"
   ]
  },
  {
   "cell_type": "code",
   "execution_count": 2,
   "id": "046c4ab6",
   "metadata": {},
   "outputs": [],
   "source": [
    "train_c = pd.read_csv(\"../Data/train_c.csv\")\n",
    "test_c = pd.read_csv(\"../Data/test_c.csv\")"
   ]
  },
  {
   "cell_type": "code",
   "execution_count": 30,
   "id": "fed3e154",
   "metadata": {},
   "outputs": [
    {
     "data": {
      "text/html": [
       "<div>\n",
       "<style scoped>\n",
       "    .dataframe tbody tr th:only-of-type {\n",
       "        vertical-align: middle;\n",
       "    }\n",
       "\n",
       "    .dataframe tbody tr th {\n",
       "        vertical-align: top;\n",
       "    }\n",
       "\n",
       "    .dataframe thead th {\n",
       "        text-align: right;\n",
       "    }\n",
       "</style>\n",
       "<table border=\"1\" class=\"dataframe\">\n",
       "  <thead>\n",
       "    <tr style=\"text-align: right;\">\n",
       "      <th></th>\n",
       "      <th>id</th>\n",
       "      <th>carat</th>\n",
       "      <th>cut</th>\n",
       "      <th>color</th>\n",
       "      <th>clarity</th>\n",
       "      <th>depth</th>\n",
       "      <th>table</th>\n",
       "      <th>price</th>\n",
       "    </tr>\n",
       "  </thead>\n",
       "  <tbody>\n",
       "    <tr>\n",
       "      <th>0</th>\n",
       "      <td>0</td>\n",
       "      <td>1.14</td>\n",
       "      <td>5</td>\n",
       "      <td>4</td>\n",
       "      <td>6</td>\n",
       "      <td>61.0</td>\n",
       "      <td>56.0</td>\n",
       "      <td>9013</td>\n",
       "    </tr>\n",
       "  </tbody>\n",
       "</table>\n",
       "</div>"
      ],
      "text/plain": [
       "   id  carat  cut  color  clarity  depth  table  price\n",
       "0   0   1.14    5      4        6   61.0   56.0   9013"
      ]
     },
     "execution_count": 30,
     "metadata": {},
     "output_type": "execute_result"
    }
   ],
   "source": [
    "train_c.head(1)"
   ]
  },
  {
   "cell_type": "code",
   "execution_count": 29,
   "id": "1588d5dd",
   "metadata": {},
   "outputs": [
    {
     "data": {
      "text/html": [
       "<div>\n",
       "<style scoped>\n",
       "    .dataframe tbody tr th:only-of-type {\n",
       "        vertical-align: middle;\n",
       "    }\n",
       "\n",
       "    .dataframe tbody tr th {\n",
       "        vertical-align: top;\n",
       "    }\n",
       "\n",
       "    .dataframe thead th {\n",
       "        text-align: right;\n",
       "    }\n",
       "</style>\n",
       "<table border=\"1\" class=\"dataframe\">\n",
       "  <thead>\n",
       "    <tr style=\"text-align: right;\">\n",
       "      <th></th>\n",
       "      <th>id</th>\n",
       "      <th>carat</th>\n",
       "      <th>cut</th>\n",
       "      <th>color</th>\n",
       "      <th>clarity</th>\n",
       "      <th>depth</th>\n",
       "      <th>table</th>\n",
       "      <th>y_pred</th>\n",
       "    </tr>\n",
       "  </thead>\n",
       "  <tbody>\n",
       "    <tr>\n",
       "      <th>0</th>\n",
       "      <td>0</td>\n",
       "      <td>1.0</td>\n",
       "      <td>1</td>\n",
       "      <td>1</td>\n",
       "      <td>2</td>\n",
       "      <td>56.3</td>\n",
       "      <td>64.0</td>\n",
       "      <td>3326.43</td>\n",
       "    </tr>\n",
       "  </tbody>\n",
       "</table>\n",
       "</div>"
      ],
      "text/plain": [
       "   id  carat  cut  color  clarity  depth  table   y_pred\n",
       "0   0    1.0    1      1        2   56.3   64.0  3326.43"
      ]
     },
     "execution_count": 29,
     "metadata": {},
     "output_type": "execute_result"
    }
   ],
   "source": [
    "test_c.head(1)"
   ]
  },
  {
   "cell_type": "markdown",
   "id": "6b2e263e",
   "metadata": {},
   "source": [
    "**SELECCIONAMOS PREDICTOR Y RESULTADOS**"
   ]
  },
  {
   "cell_type": "code",
   "execution_count": 5,
   "id": "95559df2",
   "metadata": {},
   "outputs": [],
   "source": [
    "X = train_c.drop(['price','id'], axis = 1)\n",
    "y = train_c.price"
   ]
  },
  {
   "cell_type": "code",
   "execution_count": 28,
   "id": "339573fd",
   "metadata": {},
   "outputs": [
    {
     "data": {
      "text/html": [
       "<div>\n",
       "<style scoped>\n",
       "    .dataframe tbody tr th:only-of-type {\n",
       "        vertical-align: middle;\n",
       "    }\n",
       "\n",
       "    .dataframe tbody tr th {\n",
       "        vertical-align: top;\n",
       "    }\n",
       "\n",
       "    .dataframe thead th {\n",
       "        text-align: right;\n",
       "    }\n",
       "</style>\n",
       "<table border=\"1\" class=\"dataframe\">\n",
       "  <thead>\n",
       "    <tr style=\"text-align: right;\">\n",
       "      <th></th>\n",
       "      <th>carat</th>\n",
       "      <th>cut</th>\n",
       "      <th>color</th>\n",
       "      <th>clarity</th>\n",
       "      <th>depth</th>\n",
       "      <th>table</th>\n",
       "    </tr>\n",
       "  </thead>\n",
       "  <tbody>\n",
       "    <tr>\n",
       "      <th>0</th>\n",
       "      <td>1.14</td>\n",
       "      <td>5</td>\n",
       "      <td>4</td>\n",
       "      <td>6</td>\n",
       "      <td>61.0</td>\n",
       "      <td>56.0</td>\n",
       "    </tr>\n",
       "  </tbody>\n",
       "</table>\n",
       "</div>"
      ],
      "text/plain": [
       "   carat  cut  color  clarity  depth  table\n",
       "0   1.14    5      4        6   61.0   56.0"
      ]
     },
     "execution_count": 28,
     "metadata": {},
     "output_type": "execute_result"
    }
   ],
   "source": [
    "X.head(1)"
   ]
  },
  {
   "cell_type": "code",
   "execution_count": 31,
   "id": "1364d8eb",
   "metadata": {},
   "outputs": [
    {
     "data": {
      "text/plain": [
       "0    9013\n",
       "Name: price, dtype: int64"
      ]
     },
     "execution_count": 31,
     "metadata": {},
     "output_type": "execute_result"
    }
   ],
   "source": [
    "y[:1]"
   ]
  },
  {
   "cell_type": "markdown",
   "id": "1d8ed483",
   "metadata": {},
   "source": [
    "**CREAMOS TRAIN_TEST_SPLIT CON UN 80% - 20%**"
   ]
  },
  {
   "cell_type": "code",
   "execution_count": 8,
   "id": "0763cb03",
   "metadata": {},
   "outputs": [],
   "source": [
    "# creamos train_test_split\n",
    "\n",
    "X_train, X_test, y_train, y_test = tts(X,y, test_size=0.2)"
   ]
  },
  {
   "cell_type": "code",
   "execution_count": 9,
   "id": "4d98c759",
   "metadata": {},
   "outputs": [
    {
     "name": "stdout",
     "output_type": "stream",
     "text": [
      "(32364, 6) (8091, 6) (32364,) (8091,)\n"
     ]
    }
   ],
   "source": [
    "print(X_train.shape, X_test.shape, y_train.shape, y_test.shape)"
   ]
  },
  {
   "cell_type": "markdown",
   "id": "54e275ba",
   "metadata": {},
   "source": [
    "**PROBAREMOS VARIOS MODELOS**"
   ]
  },
  {
   "cell_type": "code",
   "execution_count": 10,
   "id": "faa79725",
   "metadata": {},
   "outputs": [],
   "source": [
    "models = {\n",
    "    'Linear': LinReg(),\n",
    "    'Ridge': Ridge(),\n",
    "    'Lasso': Lasso(),\n",
    "    'SGD': SGDRegressor(),\n",
    "    'KN': KNeighborsRegressor(),\n",
    "    'Grad': GradientBoostingRegressor(),\n",
    "    'DTree': DecisionTreeRegressor(),\n",
    "    'RForest': RandomForestRegressor(),}"
   ]
  },
  {
   "cell_type": "markdown",
   "id": "7448c01b",
   "metadata": {},
   "source": [
    "**LOS ENTRENAMOS**"
   ]
  },
  {
   "cell_type": "code",
   "execution_count": 11,
   "id": "a5c74688",
   "metadata": {
    "scrolled": true
   },
   "outputs": [
    {
     "name": "stdout",
     "output_type": "stream",
     "text": [
      "Training:  Linear\n",
      "Training:  Ridge\n",
      "Training:  Lasso\n",
      "Training:  SGD\n",
      "Training:  KN\n",
      "Training:  Grad\n",
      "Training:  DTree\n",
      "Training:  RForest\n"
     ]
    }
   ],
   "source": [
    "for name, model in models.items():\n",
    "    print(\"Training: \", name)\n",
    "    model.fit(X_train, y_train)"
   ]
  },
  {
   "cell_type": "markdown",
   "id": "13882361",
   "metadata": {},
   "source": [
    "**VEMOS LOS RESULTADOS**"
   ]
  },
  {
   "cell_type": "code",
   "execution_count": 12,
   "id": "b6a5de5b",
   "metadata": {},
   "outputs": [
    {
     "name": "stdout",
     "output_type": "stream",
     "text": [
      "1241.539448910807 => RMSE => LinearRegression()\n",
      "1241.5415671759315 => RMSE => Ridge()\n",
      "1241.5663879227234 => RMSE => Lasso()\n",
      "73503012.28773797 => RMSE => SGDRegressor()\n",
      "1917.1903410116256 => RMSE => KNeighborsRegressor()\n",
      "629.2846446145301 => RMSE => GradientBoostingRegressor()\n",
      "716.503067483076 => RMSE => DecisionTreeRegressor()\n",
      "562.6715385792502 => RMSE => RandomForestRegressor()\n"
     ]
    }
   ],
   "source": [
    "for name, model in models.items():\n",
    "    y_pred = model.predict(X_test)\n",
    "    print(np.sqrt(metrics.mean_squared_error(y_test, y_pred)),f'=> RMSE => {model}')"
   ]
  },
  {
   "cell_type": "markdown",
   "id": "b3e05535",
   "metadata": {},
   "source": [
    "**NUESTRO MEJOR ERROR LO ENCONTRAMOS EN RANDOM FOREST***"
   ]
  },
  {
   "cell_type": "markdown",
   "id": "1e9dff28",
   "metadata": {},
   "source": [
    "**LO ENTRENAMOS Y HACEMOS NUESTRA PREDICCIÓN**"
   ]
  },
  {
   "cell_type": "code",
   "execution_count": 13,
   "id": "ede67d84",
   "metadata": {},
   "outputs": [
    {
     "data": {
      "text/plain": [
       "RandomForestRegressor()"
      ]
     },
     "execution_count": 13,
     "metadata": {},
     "output_type": "execute_result"
    }
   ],
   "source": [
    "forest = RandomForestRegressor()\n",
    "forest.fit(X_train,y_train)"
   ]
  },
  {
   "cell_type": "code",
   "execution_count": 14,
   "id": "95f75edf",
   "metadata": {},
   "outputs": [],
   "source": [
    "woid = test_c.drop([\"id\"], axis=1)"
   ]
  },
  {
   "cell_type": "code",
   "execution_count": 15,
   "id": "f8fcbada",
   "metadata": {},
   "outputs": [],
   "source": [
    "y_pred = forest.predict(woid)"
   ]
  },
  {
   "cell_type": "markdown",
   "id": "54b910fa",
   "metadata": {},
   "source": [
    "**VEAMOS EL MEAN_SQUARED_ERROR**          \n",
    "**LA DIFERENCIA ENTRE NUESTRO VALOR Y EL ESTIMADO**"
   ]
  },
  {
   "cell_type": "code",
   "execution_count": 16,
   "id": "992d66fa",
   "metadata": {},
   "outputs": [
    {
     "data": {
      "text/plain": [
       "44296.943"
      ]
     },
     "execution_count": 16,
     "metadata": {},
     "output_type": "execute_result"
    }
   ],
   "source": [
    "mean_squared_error(y_train,forest.predict(X_train)).round(3)"
   ]
  },
  {
   "cell_type": "markdown",
   "id": "6ec7597e",
   "metadata": {},
   "source": [
    "**INCLUIMOS LA PREDICCIÓN EN NUESTRO DATAFRAME**"
   ]
  },
  {
   "cell_type": "code",
   "execution_count": 18,
   "id": "91f8491d",
   "metadata": {},
   "outputs": [],
   "source": [
    "test_c[\"y_pred\"] = y_pred"
   ]
  },
  {
   "cell_type": "code",
   "execution_count": 19,
   "id": "c2caab65",
   "metadata": {},
   "outputs": [
    {
     "data": {
      "text/html": [
       "<div>\n",
       "<style scoped>\n",
       "    .dataframe tbody tr th:only-of-type {\n",
       "        vertical-align: middle;\n",
       "    }\n",
       "\n",
       "    .dataframe tbody tr th {\n",
       "        vertical-align: top;\n",
       "    }\n",
       "\n",
       "    .dataframe thead th {\n",
       "        text-align: right;\n",
       "    }\n",
       "</style>\n",
       "<table border=\"1\" class=\"dataframe\">\n",
       "  <thead>\n",
       "    <tr style=\"text-align: right;\">\n",
       "      <th></th>\n",
       "      <th>id</th>\n",
       "      <th>carat</th>\n",
       "      <th>cut</th>\n",
       "      <th>color</th>\n",
       "      <th>clarity</th>\n",
       "      <th>depth</th>\n",
       "      <th>table</th>\n",
       "      <th>y_pred</th>\n",
       "    </tr>\n",
       "  </thead>\n",
       "  <tbody>\n",
       "    <tr>\n",
       "      <th>0</th>\n",
       "      <td>0</td>\n",
       "      <td>1.0</td>\n",
       "      <td>1</td>\n",
       "      <td>1</td>\n",
       "      <td>2</td>\n",
       "      <td>56.3</td>\n",
       "      <td>64.0</td>\n",
       "      <td>3326.43</td>\n",
       "    </tr>\n",
       "  </tbody>\n",
       "</table>\n",
       "</div>"
      ],
      "text/plain": [
       "   id  carat  cut  color  clarity  depth  table   y_pred\n",
       "0   0    1.0    1      1        2   56.3   64.0  3326.43"
      ]
     },
     "execution_count": 19,
     "metadata": {},
     "output_type": "execute_result"
    }
   ],
   "source": [
    "test_c.head(1)"
   ]
  },
  {
   "cell_type": "markdown",
   "id": "ae736fee",
   "metadata": {},
   "source": [
    "**SELECCIONAMOS LAS COLUMNAS QUE KAGGLE NOS SOLICITA**"
   ]
  },
  {
   "cell_type": "code",
   "execution_count": 25,
   "id": "bf70d221",
   "metadata": {},
   "outputs": [
    {
     "data": {
      "text/html": [
       "<div>\n",
       "<style scoped>\n",
       "    .dataframe tbody tr th:only-of-type {\n",
       "        vertical-align: middle;\n",
       "    }\n",
       "\n",
       "    .dataframe tbody tr th {\n",
       "        vertical-align: top;\n",
       "    }\n",
       "\n",
       "    .dataframe thead th {\n",
       "        text-align: right;\n",
       "    }\n",
       "</style>\n",
       "<table border=\"1\" class=\"dataframe\">\n",
       "  <thead>\n",
       "    <tr style=\"text-align: right;\">\n",
       "      <th></th>\n",
       "      <th>id</th>\n",
       "      <th>y_pred</th>\n",
       "    </tr>\n",
       "  </thead>\n",
       "  <tbody>\n",
       "    <tr>\n",
       "      <th>0</th>\n",
       "      <td>0</td>\n",
       "      <td>3326.43</td>\n",
       "    </tr>\n",
       "  </tbody>\n",
       "</table>\n",
       "</div>"
      ],
      "text/plain": [
       "   id   y_pred\n",
       "0   0  3326.43"
      ]
     },
     "execution_count": 25,
     "metadata": {},
     "output_type": "execute_result"
    }
   ],
   "source": [
    "submission1 = test_c[[\"id\",\"y_pred\"]]\n",
    "submission1.head(1)"
   ]
  },
  {
   "cell_type": "markdown",
   "id": "a048dc7e",
   "metadata": {},
   "source": [
    "**SETEAMOS ID COMO INDEX**"
   ]
  },
  {
   "cell_type": "code",
   "execution_count": 26,
   "id": "fb4b6fc8",
   "metadata": {},
   "outputs": [
    {
     "data": {
      "text/html": [
       "<div>\n",
       "<style scoped>\n",
       "    .dataframe tbody tr th:only-of-type {\n",
       "        vertical-align: middle;\n",
       "    }\n",
       "\n",
       "    .dataframe tbody tr th {\n",
       "        vertical-align: top;\n",
       "    }\n",
       "\n",
       "    .dataframe thead th {\n",
       "        text-align: right;\n",
       "    }\n",
       "</style>\n",
       "<table border=\"1\" class=\"dataframe\">\n",
       "  <thead>\n",
       "    <tr style=\"text-align: right;\">\n",
       "      <th></th>\n",
       "      <th>y_pred</th>\n",
       "    </tr>\n",
       "    <tr>\n",
       "      <th>id</th>\n",
       "      <th></th>\n",
       "    </tr>\n",
       "  </thead>\n",
       "  <tbody>\n",
       "    <tr>\n",
       "      <th>0</th>\n",
       "      <td>3326.43</td>\n",
       "    </tr>\n",
       "  </tbody>\n",
       "</table>\n",
       "</div>"
      ],
      "text/plain": [
       "     y_pred\n",
       "id         \n",
       "0   3326.43"
      ]
     },
     "execution_count": 26,
     "metadata": {},
     "output_type": "execute_result"
    }
   ],
   "source": [
    "test1 = submission1.set_index('id')\n",
    "test1.head(1)"
   ]
  },
  {
   "cell_type": "markdown",
   "id": "7f4b678f",
   "metadata": {},
   "source": [
    "**CAMBIAMOS EL NOMBRE DE LA COLUMNA**"
   ]
  },
  {
   "cell_type": "code",
   "execution_count": 27,
   "id": "564e612b",
   "metadata": {},
   "outputs": [
    {
     "data": {
      "text/html": [
       "<div>\n",
       "<style scoped>\n",
       "    .dataframe tbody tr th:only-of-type {\n",
       "        vertical-align: middle;\n",
       "    }\n",
       "\n",
       "    .dataframe tbody tr th {\n",
       "        vertical-align: top;\n",
       "    }\n",
       "\n",
       "    .dataframe thead th {\n",
       "        text-align: right;\n",
       "    }\n",
       "</style>\n",
       "<table border=\"1\" class=\"dataframe\">\n",
       "  <thead>\n",
       "    <tr style=\"text-align: right;\">\n",
       "      <th></th>\n",
       "      <th>price</th>\n",
       "    </tr>\n",
       "    <tr>\n",
       "      <th>id</th>\n",
       "      <th></th>\n",
       "    </tr>\n",
       "  </thead>\n",
       "  <tbody>\n",
       "    <tr>\n",
       "      <th>0</th>\n",
       "      <td>3326.43</td>\n",
       "    </tr>\n",
       "  </tbody>\n",
       "</table>\n",
       "</div>"
      ],
      "text/plain": [
       "      price\n",
       "id         \n",
       "0   3326.43"
      ]
     },
     "execution_count": 27,
     "metadata": {},
     "output_type": "execute_result"
    }
   ],
   "source": [
    "test1.columns = ['price']\n",
    "test1.head(1)"
   ]
  },
  {
   "cell_type": "markdown",
   "id": "231082dd",
   "metadata": {},
   "source": [
    "**EXPORTAMOS LA SUBMISSION EN FORMATO CSV**"
   ]
  },
  {
   "cell_type": "code",
   "execution_count": null,
   "id": "621f2b7b",
   "metadata": {},
   "outputs": [],
   "source": [
    "test1.to_csv(\"../Data/submission1.csv\")"
   ]
  }
 ],
 "metadata": {
  "kernelspec": {
   "display_name": "ironhack",
   "language": "python",
   "name": "ironhack"
  },
  "language_info": {
   "codemirror_mode": {
    "name": "ipython",
    "version": 3
   },
   "file_extension": ".py",
   "mimetype": "text/x-python",
   "name": "python",
   "nbconvert_exporter": "python",
   "pygments_lexer": "ipython3",
   "version": "3.8.12"
  }
 },
 "nbformat": 4,
 "nbformat_minor": 5
}
