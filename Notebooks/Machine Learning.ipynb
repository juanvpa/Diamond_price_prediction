{
 "cells": [
  {
   "cell_type": "markdown",
   "id": "985bc839",
   "metadata": {},
   "source": [
    "**IMPORTAMOS LIBRERIAS**"
   ]
  },
  {
   "cell_type": "code",
   "execution_count": 1,
   "id": "9bc97113",
   "metadata": {},
   "outputs": [],
   "source": [
    "import pandas as pd\n",
    "from sklearn.model_selection import train_test_split as tts\n",
    "from sklearn.linear_model import LinearRegression as LinReg\n",
    "from sklearn.linear_model import Ridge, Lasso\n",
    "from sklearn.linear_model import SGDRegressor\n",
    "from sklearn.neighbors import KNeighborsRegressor\n",
    "from sklearn.ensemble import GradientBoostingRegressor\n",
    "from sklearn.tree import DecisionTreeRegressor\n",
    "from sklearn.ensemble import RandomForestRegressor\n",
    "from sklearn.svm import SVR\n",
    "from sklearn.tree import plot_tree\n",
    "from sklearn import metrics\n",
    "import numpy as np"
   ]
  },
  {
   "cell_type": "markdown",
   "id": "56c5ed4a",
   "metadata": {},
   "source": [
    "**IMPORTAMOS CSV**"
   ]
  },
  {
   "cell_type": "code",
   "execution_count": 2,
   "id": "046c4ab6",
   "metadata": {},
   "outputs": [],
   "source": [
    "train_c = pd.read_csv(\"../Data/train_c.csv\")\n",
    "test_c = pd.read_csv(\"../Data/test_c.csv\")"
   ]
  },
  {
   "cell_type": "code",
   "execution_count": 3,
   "id": "d352531a",
   "metadata": {},
   "outputs": [
    {
     "data": {
      "text/html": [
       "<div>\n",
       "<style scoped>\n",
       "    .dataframe tbody tr th:only-of-type {\n",
       "        vertical-align: middle;\n",
       "    }\n",
       "\n",
       "    .dataframe tbody tr th {\n",
       "        vertical-align: top;\n",
       "    }\n",
       "\n",
       "    .dataframe thead th {\n",
       "        text-align: right;\n",
       "    }\n",
       "</style>\n",
       "<table border=\"1\" class=\"dataframe\">\n",
       "  <thead>\n",
       "    <tr style=\"text-align: right;\">\n",
       "      <th></th>\n",
       "      <th>id</th>\n",
       "      <th>carat</th>\n",
       "      <th>cut</th>\n",
       "      <th>color</th>\n",
       "      <th>clarity</th>\n",
       "      <th>depth</th>\n",
       "      <th>table</th>\n",
       "      <th>price</th>\n",
       "    </tr>\n",
       "  </thead>\n",
       "  <tbody>\n",
       "    <tr>\n",
       "      <th>0</th>\n",
       "      <td>0</td>\n",
       "      <td>1.14</td>\n",
       "      <td>5</td>\n",
       "      <td>4</td>\n",
       "      <td>6</td>\n",
       "      <td>61.0</td>\n",
       "      <td>56.0</td>\n",
       "      <td>9013</td>\n",
       "    </tr>\n",
       "    <tr>\n",
       "      <th>1</th>\n",
       "      <td>1</td>\n",
       "      <td>0.76</td>\n",
       "      <td>5</td>\n",
       "      <td>3</td>\n",
       "      <td>4</td>\n",
       "      <td>62.7</td>\n",
       "      <td>57.0</td>\n",
       "      <td>2692</td>\n",
       "    </tr>\n",
       "    <tr>\n",
       "      <th>2</th>\n",
       "      <td>2</td>\n",
       "      <td>0.84</td>\n",
       "      <td>5</td>\n",
       "      <td>4</td>\n",
       "      <td>5</td>\n",
       "      <td>61.4</td>\n",
       "      <td>56.0</td>\n",
       "      <td>4372</td>\n",
       "    </tr>\n",
       "    <tr>\n",
       "      <th>3</th>\n",
       "      <td>3</td>\n",
       "      <td>1.55</td>\n",
       "      <td>5</td>\n",
       "      <td>3</td>\n",
       "      <td>5</td>\n",
       "      <td>62.0</td>\n",
       "      <td>57.0</td>\n",
       "      <td>13665</td>\n",
       "    </tr>\n",
       "    <tr>\n",
       "      <th>4</th>\n",
       "      <td>4</td>\n",
       "      <td>0.30</td>\n",
       "      <td>5</td>\n",
       "      <td>4</td>\n",
       "      <td>2</td>\n",
       "      <td>61.9</td>\n",
       "      <td>57.0</td>\n",
       "      <td>422</td>\n",
       "    </tr>\n",
       "  </tbody>\n",
       "</table>\n",
       "</div>"
      ],
      "text/plain": [
       "   id  carat  cut  color  clarity  depth  table  price\n",
       "0   0   1.14    5      4        6   61.0   56.0   9013\n",
       "1   1   0.76    5      3        4   62.7   57.0   2692\n",
       "2   2   0.84    5      4        5   61.4   56.0   4372\n",
       "3   3   1.55    5      3        5   62.0   57.0  13665\n",
       "4   4   0.30    5      4        2   61.9   57.0    422"
      ]
     },
     "execution_count": 3,
     "metadata": {},
     "output_type": "execute_result"
    }
   ],
   "source": [
    "train_c.head()"
   ]
  },
  {
   "cell_type": "code",
   "execution_count": 4,
   "id": "95559df2",
   "metadata": {},
   "outputs": [],
   "source": [
    "# seleccionamos predictor y resultados\n",
    "\n",
    "X = train_c.drop(['id', 'price'], axis = 1)\n",
    "y = train_c.price"
   ]
  },
  {
   "cell_type": "code",
   "execution_count": 5,
   "id": "1e9ed74d",
   "metadata": {},
   "outputs": [],
   "source": [
    "# creamos train_test_split\n",
    "X_train, X_test, y_train, y_test = tts(X,y, test_size=0.2)"
   ]
  },
  {
   "cell_type": "code",
   "execution_count": 6,
   "id": "e61fb73f",
   "metadata": {},
   "outputs": [
    {
     "name": "stdout",
     "output_type": "stream",
     "text": [
      "(32364, 6) (8091, 6) (32364,) (8091,)\n",
      "(13485, 7)\n"
     ]
    }
   ],
   "source": [
    "print(X_train.shape, X_test.shape, y_train.shape, y_test.shape)"
   ]
  },
  {
   "cell_type": "markdown",
   "id": "cffeeb35",
   "metadata": {},
   "source": [
    "**PROBAREMOS VARIOS MODELOS DE ML**"
   ]
  },
  {
   "cell_type": "code",
   "execution_count": 7,
   "id": "022a0403",
   "metadata": {},
   "outputs": [],
   "source": [
    "models = {\n",
    "    'Linear': LinReg(),\n",
    "    'Ridge': Ridge(),\n",
    "    'Lasso': Lasso(),\n",
    "    'SGD': SGDRegressor(),\n",
    "    'KN': KNeighborsRegressor(),\n",
    "    'Grad': GradientBoostingRegressor(),\n",
    "    'DTree': DecisionTreeRegressor(),\n",
    "    'RForest': RandomForestRegressor(),}"
   ]
  },
  {
   "cell_type": "code",
   "execution_count": 8,
   "id": "dd8b21e2",
   "metadata": {},
   "outputs": [
    {
     "name": "stdout",
     "output_type": "stream",
     "text": [
      "Training:  Linear\n",
      "Training:  Ridge\n",
      "Training:  Lasso\n",
      "Training:  SGD\n",
      "Training:  KN\n",
      "Training:  Grad\n",
      "Training:  DTree\n",
      "Training:  RForest\n"
     ]
    }
   ],
   "source": [
    "for name, model in models.items():\n",
    "    print(\"Training: \", name)\n",
    "    model.fit(X_train, y_train)"
   ]
  },
  {
   "cell_type": "code",
   "execution_count": null,
   "id": "287b1424",
   "metadata": {},
   "outputs": [
    {
     "name": "stdout",
     "output_type": "stream",
     "text": [
      "RMSE LinearRegression() =>    1239.5137205641934\n",
      "RMSE Ridge() =>    1239.5183245712465\n",
      "RMSE Lasso() =>    1239.5333810534178\n",
      "RMSE SGDRegressor() =>    64480082.4059721\n",
      "RMSE KNeighborsRegressor() =>    1930.4926822659259\n",
      "RMSE GradientBoostingRegressor() =>    602.1790276850411\n",
      "RMSE DecisionTreeRegressor() =>    686.2053847868301\n"
     ]
    }
   ],
   "source": [
    "for name, model in models.items():\n",
    "    y_pred = model.predict(X_test)\n",
    "    print(f'RMSE {model} =>   ', np.sqrt(metrics.mean_squared_error(y_test, y_pred)))"
   ]
  },
  {
   "cell_type": "markdown",
   "id": "2a5adca7",
   "metadata": {},
   "source": [
    "**NUESTRO MEJOR ERROR LO ENCONTRAMOS EN:           \n",
    "    - RandomForestRegressor() => RMSE :  578.4409681899039**"
   ]
  },
  {
   "cell_type": "code",
   "execution_count": null,
   "id": "e59c56fb",
   "metadata": {},
   "outputs": [],
   "source": [
    "forest = RandomForestRegressor()\n",
    "forest.fit(X_train,y_train)"
   ]
  },
  {
   "cell_type": "code",
   "execution_count": null,
   "id": "0c8933cb",
   "metadata": {},
   "outputs": [],
   "source": [
    "test_c.drop([\"id\"], axis=1, inplace=True)"
   ]
  },
  {
   "cell_type": "code",
   "execution_count": null,
   "id": "c412cda1",
   "metadata": {},
   "outputs": [],
   "source": [
    "y_pred = forest.predict(test_c)"
   ]
  },
  {
   "cell_type": "code",
   "execution_count": null,
   "id": "d4b1c39d",
   "metadata": {},
   "outputs": [],
   "source": [
    "test_c[\"y_pred\"] = y_pred"
   ]
  },
  {
   "cell_type": "code",
   "execution_count": null,
   "id": "6bc848bb",
   "metadata": {},
   "outputs": [],
   "source": [
    "submission1 = test_c[[\"y_pred\"]]\n",
    "submission1.head()"
   ]
  },
  {
   "cell_type": "code",
   "execution_count": null,
   "id": "c39560b9",
   "metadata": {},
   "outputs": [],
   "source": [
    "submission1.columns = ['id', 'price']"
   ]
  },
  {
   "cell_type": "code",
   "execution_count": null,
   "id": "c9ee9ae2",
   "metadata": {},
   "outputs": [],
   "source": [
    "submission1.to_csv(\"../Data/submission1.csv\")"
   ]
  },
  {
   "cell_type": "code",
   "execution_count": null,
   "id": "90474957",
   "metadata": {},
   "outputs": [],
   "source": []
  }
 ],
 "metadata": {
  "kernelspec": {
   "display_name": "ironhack",
   "language": "python",
   "name": "ironhack"
  },
  "language_info": {
   "codemirror_mode": {
    "name": "ipython",
    "version": 3
   },
   "file_extension": ".py",
   "mimetype": "text/x-python",
   "name": "python",
   "nbconvert_exporter": "python",
   "pygments_lexer": "ipython3",
   "version": "3.8.12"
  }
 },
 "nbformat": 4,
 "nbformat_minor": 5
}
