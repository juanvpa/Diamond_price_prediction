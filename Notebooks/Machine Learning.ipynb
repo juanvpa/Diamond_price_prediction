{
 "cells": [
  {
   "cell_type": "markdown",
   "id": "985bc839",
   "metadata": {},
   "source": [
    "**IMPORTAMOS EL CSV..."
   ]
  },
  {
   "cell_type": "code",
   "execution_count": null,
   "id": "046c4ab6",
   "metadata": {},
   "outputs": [],
   "source": [
    "df = pd.read_csv(\"../Data/train.csv\")"
   ]
  },
  {
   "cell_type": "markdown",
   "id": "251695df",
   "metadata": {},
   "source": [
    "**VAMOS A HACER HACER FIT DEL MODELO"
   ]
  },
  {
   "cell_type": "code",
   "execution_count": null,
   "id": "95559df2",
   "metadata": {},
   "outputs": [],
   "source": []
  }
 ],
 "metadata": {
  "kernelspec": {
   "display_name": "ironhack",
   "language": "python",
   "name": "ironhack"
  },
  "language_info": {
   "codemirror_mode": {
    "name": "ipython",
    "version": 3
   },
   "file_extension": ".py",
   "mimetype": "text/x-python",
   "name": "python",
   "nbconvert_exporter": "python",
   "pygments_lexer": "ipython3",
   "version": "3.8.12"
  }
 },
 "nbformat": 4,
 "nbformat_minor": 5
}
