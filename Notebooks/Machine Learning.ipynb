{
 "cells": [
  {
   "cell_type": "markdown",
   "id": "985bc839",
   "metadata": {},
   "source": [
    "**IMPORTAMOS LIBRERIAS**"
   ]
  },
  {
   "cell_type": "code",
   "execution_count": 1,
   "id": "2898d0be",
   "metadata": {},
   "outputs": [],
   "source": [
    "import pandas as pd\n",
    "from sklearn.model_selection import train_test_split as tts\n",
    "from sklearn.linear_model import LinearRegression as LinReg\n",
    "from sklearn.linear_model import Ridge, Lasso\n",
    "from sklearn.linear_model import SGDRegressor\n",
    "from sklearn.neighbors import KNeighborsRegressor\n",
    "from sklearn.ensemble import GradientBoostingRegressor\n",
    "from sklearn.tree import DecisionTreeRegressor\n",
    "from sklearn.ensemble import RandomForestRegressor\n",
    "from sklearn.svm import SVR\n",
    "from sklearn.tree import plot_tree\n",
    "from sklearn import metrics\n",
    "import numpy as np"
   ]
  },
  {
   "cell_type": "markdown",
   "id": "a7ad3463",
   "metadata": {},
   "source": [
    "**IMPORTAMOS CSV**"
   ]
  },
  {
   "cell_type": "code",
   "execution_count": 17,
   "id": "046c4ab6",
   "metadata": {},
   "outputs": [],
   "source": [
    "train_c = pd.read_csv(\"../Data/train_c.csv\")\n",
    "test_c = pd.read_csv(\"../Data/test_c.csv\")"
   ]
  },
  {
   "cell_type": "code",
   "execution_count": 3,
   "id": "fc812c7e",
   "metadata": {},
   "outputs": [
    {
     "data": {
      "text/html": [
       "<div>\n",
       "<style scoped>\n",
       "    .dataframe tbody tr th:only-of-type {\n",
       "        vertical-align: middle;\n",
       "    }\n",
       "\n",
       "    .dataframe tbody tr th {\n",
       "        vertical-align: top;\n",
       "    }\n",
       "\n",
       "    .dataframe thead th {\n",
       "        text-align: right;\n",
       "    }\n",
       "</style>\n",
       "<table border=\"1\" class=\"dataframe\">\n",
       "  <thead>\n",
       "    <tr style=\"text-align: right;\">\n",
       "      <th></th>\n",
       "      <th>id</th>\n",
       "      <th>carat</th>\n",
       "      <th>cut</th>\n",
       "      <th>color</th>\n",
       "      <th>clarity</th>\n",
       "      <th>depth</th>\n",
       "      <th>table</th>\n",
       "      <th>price</th>\n",
       "    </tr>\n",
       "  </thead>\n",
       "  <tbody>\n",
       "    <tr>\n",
       "      <th>0</th>\n",
       "      <td>0</td>\n",
       "      <td>1.14</td>\n",
       "      <td>5</td>\n",
       "      <td>4</td>\n",
       "      <td>6</td>\n",
       "      <td>61.0</td>\n",
       "      <td>56.0</td>\n",
       "      <td>9013</td>\n",
       "    </tr>\n",
       "    <tr>\n",
       "      <th>1</th>\n",
       "      <td>1</td>\n",
       "      <td>0.76</td>\n",
       "      <td>5</td>\n",
       "      <td>3</td>\n",
       "      <td>4</td>\n",
       "      <td>62.7</td>\n",
       "      <td>57.0</td>\n",
       "      <td>2692</td>\n",
       "    </tr>\n",
       "    <tr>\n",
       "      <th>2</th>\n",
       "      <td>2</td>\n",
       "      <td>0.84</td>\n",
       "      <td>5</td>\n",
       "      <td>4</td>\n",
       "      <td>5</td>\n",
       "      <td>61.4</td>\n",
       "      <td>56.0</td>\n",
       "      <td>4372</td>\n",
       "    </tr>\n",
       "    <tr>\n",
       "      <th>3</th>\n",
       "      <td>3</td>\n",
       "      <td>1.55</td>\n",
       "      <td>5</td>\n",
       "      <td>3</td>\n",
       "      <td>5</td>\n",
       "      <td>62.0</td>\n",
       "      <td>57.0</td>\n",
       "      <td>13665</td>\n",
       "    </tr>\n",
       "    <tr>\n",
       "      <th>4</th>\n",
       "      <td>4</td>\n",
       "      <td>0.30</td>\n",
       "      <td>5</td>\n",
       "      <td>4</td>\n",
       "      <td>2</td>\n",
       "      <td>61.9</td>\n",
       "      <td>57.0</td>\n",
       "      <td>422</td>\n",
       "    </tr>\n",
       "  </tbody>\n",
       "</table>\n",
       "</div>"
      ],
      "text/plain": [
       "   id  carat  cut  color  clarity  depth  table  price\n",
       "0   0   1.14    5      4        6   61.0   56.0   9013\n",
       "1   1   0.76    5      3        4   62.7   57.0   2692\n",
       "2   2   0.84    5      4        5   61.4   56.0   4372\n",
       "3   3   1.55    5      3        5   62.0   57.0  13665\n",
       "4   4   0.30    5      4        2   61.9   57.0    422"
      ]
     },
     "execution_count": 3,
     "metadata": {},
     "output_type": "execute_result"
    }
   ],
   "source": [
    "train_c.head()"
   ]
  },
  {
   "cell_type": "code",
   "execution_count": 19,
   "id": "95559df2",
   "metadata": {},
   "outputs": [],
   "source": [
    "# seleccionamos predictor y resultados\n",
    "\n",
    "X = train_c.drop(['id', 'price'], axis = 1)\n",
    "y = train_c.price"
   ]
  },
  {
   "cell_type": "code",
   "execution_count": 5,
   "id": "de36c14b",
   "metadata": {},
   "outputs": [],
   "source": [
    "# creamos train_test_split\n",
    "X_train, X_test, y_train, y_test = tts(X,y, test_size=0.2)"
   ]
  },
  {
   "cell_type": "code",
   "execution_count": 14,
   "id": "2135604f",
   "metadata": {},
   "outputs": [
    {
     "name": "stdout",
     "output_type": "stream",
     "text": [
      "(32364, 6) (8091, 6) (32364,) (8091,)\n",
      "(13485, 7)\n"
     ]
    }
   ],
   "source": [
    "print(X_train.shape, X_test.shape, y_train.shape, y_test.shape)\n",
    "print(test_c.shape)"
   ]
  },
  {
   "cell_type": "markdown",
   "id": "65f47465",
   "metadata": {},
   "source": [
    "**PROBAREMOS VARIOS MODELOS DE ML**"
   ]
  },
  {
   "cell_type": "code",
   "execution_count": 7,
   "id": "e88dfb34",
   "metadata": {},
   "outputs": [],
   "source": [
    "models = {\n",
    "    'Linear': LinReg(),\n",
    "    'Ridge': Ridge(),\n",
    "    'Lasso': Lasso(),\n",
    "    'SGD': SGDRegressor(),\n",
    "    'KN': KNeighborsRegressor(),\n",
    "    'Grad': GradientBoostingRegressor(),\n",
    "    'DTree': DecisionTreeRegressor(),\n",
    "    'RForest': RandomForestRegressor(),}"
   ]
  },
  {
   "cell_type": "code",
   "execution_count": 8,
   "id": "9095355a",
   "metadata": {},
   "outputs": [
    {
     "name": "stdout",
     "output_type": "stream",
     "text": [
      "Training:  Linear\n",
      "Training:  Ridge\n",
      "Training:  Lasso\n",
      "Training:  SGD\n",
      "Training:  KN\n",
      "Training:  Grad\n",
      "Training:  DTree\n",
      "Training:  RForest\n"
     ]
    }
   ],
   "source": [
    "for name, model in models.items():\n",
    "    print(\"Training: \", name)\n",
    "    model.fit(X_train, y_train)"
   ]
  },
  {
   "cell_type": "code",
   "execution_count": 9,
   "id": "e3ca55f7",
   "metadata": {},
   "outputs": [
    {
     "name": "stdout",
     "output_type": "stream",
     "text": [
      "RMSE LinearRegression() =>    1238.0612596552446\n",
      "RMSE Ridge() =>    1238.0608982608783\n",
      "RMSE Lasso() =>    1238.0615060176128\n",
      "RMSE SGDRegressor() =>    9771820.544022659\n",
      "RMSE KNeighborsRegressor() =>    1890.7237034148595\n",
      "RMSE GradientBoostingRegressor() =>    636.4397860932454\n",
      "RMSE DecisionTreeRegressor() =>    737.6260648327305\n",
      "RMSE RandomForestRegressor() =>    578.4409681899039\n"
     ]
    }
   ],
   "source": [
    "for name, model in models.items():\n",
    "    y_pred = model.predict(X_test)\n",
    "    print(f'RMSE {model} =>   ', np.sqrt(metrics.mean_squared_error(y_test, y_pred)))"
   ]
  },
  {
   "cell_type": "markdown",
   "id": "ae35d9b4",
   "metadata": {},
   "source": [
    "**NUESTRO MEJOR ERROR LO ENCONTRAMOS EN:           \n",
    "    - RandomForestRegressor() => RMSE :  578.4409681899039**"
   ]
  },
  {
   "cell_type": "code",
   "execution_count": 10,
   "id": "cd01b2ae",
   "metadata": {},
   "outputs": [
    {
     "data": {
      "text/plain": [
       "RandomForestRegressor()"
      ]
     },
     "execution_count": 10,
     "metadata": {},
     "output_type": "execute_result"
    }
   ],
   "source": [
    "forest = RandomForestRegressor()\n",
    "forest.fit(X_train,y_train)"
   ]
  },
  {
   "cell_type": "code",
   "execution_count": 23,
   "id": "35c7eb3d",
   "metadata": {},
   "outputs": [],
   "source": [
    "test_c.drop([\"id\"], axis=1, inplace=True)"
   ]
  },
  {
   "cell_type": "code",
   "execution_count": 24,
   "id": "82bec105",
   "metadata": {},
   "outputs": [],
   "source": [
    "y_pred = forest.predict(test_c)"
   ]
  },
  {
   "cell_type": "code",
   "execution_count": 29,
   "id": "8cf28a23",
   "metadata": {},
   "outputs": [],
   "source": [
    "test_c[\"y_pred\"] = y_pred"
   ]
  },
  {
   "cell_type": "code",
   "execution_count": 28,
   "id": "66c87206",
   "metadata": {},
   "outputs": [
    {
     "data": {
      "text/html": [
       "<div>\n",
       "<style scoped>\n",
       "    .dataframe tbody tr th:only-of-type {\n",
       "        vertical-align: middle;\n",
       "    }\n",
       "\n",
       "    .dataframe tbody tr th {\n",
       "        vertical-align: top;\n",
       "    }\n",
       "\n",
       "    .dataframe thead th {\n",
       "        text-align: right;\n",
       "    }\n",
       "</style>\n",
       "<table border=\"1\" class=\"dataframe\">\n",
       "  <thead>\n",
       "    <tr style=\"text-align: right;\">\n",
       "      <th></th>\n",
       "      <th>y_pred</th>\n",
       "    </tr>\n",
       "  </thead>\n",
       "  <tbody>\n",
       "    <tr>\n",
       "      <th>0</th>\n",
       "      <td>3233.35</td>\n",
       "    </tr>\n",
       "    <tr>\n",
       "      <th>1</th>\n",
       "      <td>2998.19</td>\n",
       "    </tr>\n",
       "    <tr>\n",
       "      <th>2</th>\n",
       "      <td>3272.99</td>\n",
       "    </tr>\n",
       "    <tr>\n",
       "      <th>3</th>\n",
       "      <td>3209.01</td>\n",
       "    </tr>\n",
       "    <tr>\n",
       "      <th>4</th>\n",
       "      <td>5296.38</td>\n",
       "    </tr>\n",
       "  </tbody>\n",
       "</table>\n",
       "</div>"
      ],
      "text/plain": [
       "    y_pred\n",
       "0  3233.35\n",
       "1  2998.19\n",
       "2  3272.99\n",
       "3  3209.01\n",
       "4  5296.38"
      ]
     },
     "execution_count": 28,
     "metadata": {},
     "output_type": "execute_result"
    }
   ],
   "source": [
    "submission1 = test_c[[\"y_pred\"]]\n",
    "submission1.head()"
   ]
  },
  {
   "cell_type": "code",
   "execution_count": 30,
   "id": "b13523ea",
   "metadata": {},
   "outputs": [],
   "source": [
    "test_c.to_csv(\"../Data/submission1.csv\")"
   ]
  }
 ],
 "metadata": {
  "kernelspec": {
   "display_name": "ironhack",
   "language": "python",
   "name": "ironhack"
  },
  "language_info": {
   "codemirror_mode": {
    "name": "ipython",
    "version": 3
   },
   "file_extension": ".py",
   "mimetype": "text/x-python",
   "name": "python",
   "nbconvert_exporter": "python",
   "pygments_lexer": "ipython3",
   "version": "3.8.12"
  }
 },
 "nbformat": 4,
 "nbformat_minor": 5
}
