{
 "cells": [
  {
   "cell_type": "markdown",
   "id": "678203ad",
   "metadata": {},
   "source": [
    "**PARA ESTIMAR EL PRECIO DE LOS DIAMANTES, PRIMERO NECESITAMOS PREPARAR LA DATA**"
   ]
  },
  {
   "cell_type": "markdown",
   "id": "a72c8d53",
   "metadata": {},
   "source": [
    "**IMPORTAMOS LIBRERIAS**"
   ]
  },
  {
   "cell_type": "code",
   "execution_count": 1,
   "id": "f98a28c0",
   "metadata": {},
   "outputs": [],
   "source": [
    "import pandas as pd\n",
    "import seaborn as sns\n",
    "import numpy as np\n",
    "from matplotlib import pyplot as plt\n",
    "%matplotlib inline\n",
    "sns.set_context('poster')\n",
    "sns.set(rc={'figure.figsize': (12., 10.)})\n",
    "sns.set_style('whitegrid')"
   ]
  },
  {
   "cell_type": "markdown",
   "id": "620dd9b2",
   "metadata": {},
   "source": [
    "**IMPORTAMOS CSV**"
   ]
  },
  {
   "cell_type": "code",
   "execution_count": 2,
   "id": "12d012b0",
   "metadata": {},
   "outputs": [],
   "source": [
    "df_train = pd.read_csv(\"../Data/train.csv\", index_col = 0)\n",
    "df_test = pd.read_csv(\"../Data/test.csv\", index_col = 0)"
   ]
  },
  {
   "cell_type": "markdown",
   "id": "975f28a7",
   "metadata": {},
   "source": [
    "**A VER QUE TENEMOS...**"
   ]
  },
  {
   "cell_type": "code",
   "execution_count": 3,
   "id": "862de0c2",
   "metadata": {},
   "outputs": [
    {
     "data": {
      "text/html": [
       "<div>\n",
       "<style scoped>\n",
       "    .dataframe tbody tr th:only-of-type {\n",
       "        vertical-align: middle;\n",
       "    }\n",
       "\n",
       "    .dataframe tbody tr th {\n",
       "        vertical-align: top;\n",
       "    }\n",
       "\n",
       "    .dataframe thead th {\n",
       "        text-align: right;\n",
       "    }\n",
       "</style>\n",
       "<table border=\"1\" class=\"dataframe\">\n",
       "  <thead>\n",
       "    <tr style=\"text-align: right;\">\n",
       "      <th></th>\n",
       "      <th>carat</th>\n",
       "      <th>cut</th>\n",
       "      <th>color</th>\n",
       "      <th>clarity</th>\n",
       "      <th>depth</th>\n",
       "      <th>table</th>\n",
       "      <th>x</th>\n",
       "      <th>y</th>\n",
       "      <th>z</th>\n",
       "      <th>price</th>\n",
       "    </tr>\n",
       "    <tr>\n",
       "      <th>id</th>\n",
       "      <th></th>\n",
       "      <th></th>\n",
       "      <th></th>\n",
       "      <th></th>\n",
       "      <th></th>\n",
       "      <th></th>\n",
       "      <th></th>\n",
       "      <th></th>\n",
       "      <th></th>\n",
       "      <th></th>\n",
       "    </tr>\n",
       "  </thead>\n",
       "  <tbody>\n",
       "    <tr>\n",
       "      <th>0</th>\n",
       "      <td>1.14</td>\n",
       "      <td>Ideal</td>\n",
       "      <td>G</td>\n",
       "      <td>VVS2</td>\n",
       "      <td>61.0</td>\n",
       "      <td>56.0</td>\n",
       "      <td>6.74</td>\n",
       "      <td>6.76</td>\n",
       "      <td>4.12</td>\n",
       "      <td>9013</td>\n",
       "    </tr>\n",
       "    <tr>\n",
       "      <th>1</th>\n",
       "      <td>0.76</td>\n",
       "      <td>Ideal</td>\n",
       "      <td>H</td>\n",
       "      <td>VS2</td>\n",
       "      <td>62.7</td>\n",
       "      <td>57.0</td>\n",
       "      <td>5.86</td>\n",
       "      <td>5.82</td>\n",
       "      <td>3.66</td>\n",
       "      <td>2692</td>\n",
       "    </tr>\n",
       "    <tr>\n",
       "      <th>2</th>\n",
       "      <td>0.84</td>\n",
       "      <td>Ideal</td>\n",
       "      <td>G</td>\n",
       "      <td>VS1</td>\n",
       "      <td>61.4</td>\n",
       "      <td>56.0</td>\n",
       "      <td>6.04</td>\n",
       "      <td>6.15</td>\n",
       "      <td>3.74</td>\n",
       "      <td>4372</td>\n",
       "    </tr>\n",
       "    <tr>\n",
       "      <th>3</th>\n",
       "      <td>1.55</td>\n",
       "      <td>Ideal</td>\n",
       "      <td>H</td>\n",
       "      <td>VS1</td>\n",
       "      <td>62.0</td>\n",
       "      <td>57.0</td>\n",
       "      <td>7.37</td>\n",
       "      <td>7.43</td>\n",
       "      <td>4.59</td>\n",
       "      <td>13665</td>\n",
       "    </tr>\n",
       "    <tr>\n",
       "      <th>4</th>\n",
       "      <td>0.30</td>\n",
       "      <td>Ideal</td>\n",
       "      <td>G</td>\n",
       "      <td>SI2</td>\n",
       "      <td>61.9</td>\n",
       "      <td>57.0</td>\n",
       "      <td>4.28</td>\n",
       "      <td>4.31</td>\n",
       "      <td>2.66</td>\n",
       "      <td>422</td>\n",
       "    </tr>\n",
       "  </tbody>\n",
       "</table>\n",
       "</div>"
      ],
      "text/plain": [
       "    carat    cut color clarity  depth  table     x     y     z  price\n",
       "id                                                                   \n",
       "0    1.14  Ideal     G    VVS2   61.0   56.0  6.74  6.76  4.12   9013\n",
       "1    0.76  Ideal     H     VS2   62.7   57.0  5.86  5.82  3.66   2692\n",
       "2    0.84  Ideal     G     VS1   61.4   56.0  6.04  6.15  3.74   4372\n",
       "3    1.55  Ideal     H     VS1   62.0   57.0  7.37  7.43  4.59  13665\n",
       "4    0.30  Ideal     G     SI2   61.9   57.0  4.28  4.31  2.66    422"
      ]
     },
     "execution_count": 3,
     "metadata": {},
     "output_type": "execute_result"
    }
   ],
   "source": [
    "df_train.head()"
   ]
  },
  {
   "cell_type": "code",
   "execution_count": 4,
   "id": "0e90bb50",
   "metadata": {
    "scrolled": true
   },
   "outputs": [
    {
     "data": {
      "text/plain": [
       "carat      float64\n",
       "cut         object\n",
       "color       object\n",
       "clarity     object\n",
       "depth      float64\n",
       "table      float64\n",
       "x          float64\n",
       "y          float64\n",
       "z          float64\n",
       "price        int64\n",
       "dtype: object"
      ]
     },
     "execution_count": 4,
     "metadata": {},
     "output_type": "execute_result"
    }
   ],
   "source": [
    "df_train.dtypes"
   ]
  },
  {
   "cell_type": "code",
   "execution_count": 5,
   "id": "465e2fec",
   "metadata": {
    "scrolled": true
   },
   "outputs": [
    {
     "data": {
      "text/plain": [
       "carat      0\n",
       "cut        0\n",
       "color      0\n",
       "clarity    0\n",
       "depth      0\n",
       "table      0\n",
       "x          0\n",
       "y          0\n",
       "z          0\n",
       "price      0\n",
       "dtype: int64"
      ]
     },
     "execution_count": 5,
     "metadata": {},
     "output_type": "execute_result"
    }
   ],
   "source": [
    "df_train.isna().sum() "
   ]
  },
  {
   "cell_type": "code",
   "execution_count": 6,
   "id": "d8b70c46",
   "metadata": {},
   "outputs": [],
   "source": [
    "cut = df_train[\"cut\"].value_counts()\n",
    "color = df_train[\"color\"].value_counts()\n",
    "clarity = df_train[\"clarity\"].value_counts()"
   ]
  },
  {
   "cell_type": "code",
   "execution_count": 7,
   "id": "8d5823f8",
   "metadata": {},
   "outputs": [
    {
     "data": {
      "text/plain": [
       "<AxesSubplot:>"
      ]
     },
     "execution_count": 7,
     "metadata": {},
     "output_type": "execute_result"
    },
    {
     "data": {
      "image/png": "[encoded data removed]",
      "text/plain": [
       "<Figure size 1440x1080 with 3 Axes>"
      ]
     },
     "metadata": {},
     "output_type": "display_data"
    }
   ],
   "source": [
    "fig, axs = plt.subplots(nrows=1, ncols=3, figsize=(20,15))\n",
    "cut.plot.bar(ax=axs[0])\n",
    "color.plot.bar(ax=axs[1])\n",
    "clarity.plot.bar(ax=axs[2])"
   ]
  },
  {
   "cell_type": "markdown",
   "id": "85f8fbd8",
   "metadata": {},
   "source": [
    "**VAMOS A LIMPIAR LA DATA**"
   ]
  },
  {
   "cell_type": "markdown",
   "id": "594420e2",
   "metadata": {},
   "source": [
    "**VEAMOS CORRELACIONES**"
   ]
  },
  {
   "cell_type": "code",
   "execution_count": 30,
   "id": "3944cca2",
   "metadata": {},
   "outputs": [
    {
     "data": {
      "text/html": [
       "<div>\n",
       "<style scoped>\n",
       "    .dataframe tbody tr th:only-of-type {\n",
       "        vertical-align: middle;\n",
       "    }\n",
       "\n",
       "    .dataframe tbody tr th {\n",
       "        vertical-align: top;\n",
       "    }\n",
       "\n",
       "    .dataframe thead th {\n",
       "        text-align: right;\n",
       "    }\n",
       "</style>\n",
       "<table border=\"1\" class=\"dataframe\">\n",
       "  <thead>\n",
       "    <tr style=\"text-align: right;\">\n",
       "      <th></th>\n",
       "      <th>carat</th>\n",
       "      <th>cut</th>\n",
       "      <th>color</th>\n",
       "      <th>clarity</th>\n",
       "      <th>depth</th>\n",
       "      <th>table</th>\n",
       "      <th>price</th>\n",
       "    </tr>\n",
       "  </thead>\n",
       "  <tbody>\n",
       "    <tr>\n",
       "      <th>carat</th>\n",
       "      <td>1.00</td>\n",
       "      <td>-0.13</td>\n",
       "      <td>-0.29</td>\n",
       "      <td>-0.35</td>\n",
       "      <td>0.03</td>\n",
       "      <td>0.18</td>\n",
       "      <td>0.92</td>\n",
       "    </tr>\n",
       "    <tr>\n",
       "      <th>cut</th>\n",
       "      <td>-0.13</td>\n",
       "      <td>1.00</td>\n",
       "      <td>0.02</td>\n",
       "      <td>0.19</td>\n",
       "      <td>-0.22</td>\n",
       "      <td>-0.43</td>\n",
       "      <td>-0.05</td>\n",
       "    </tr>\n",
       "    <tr>\n",
       "      <th>color</th>\n",
       "      <td>-0.29</td>\n",
       "      <td>0.02</td>\n",
       "      <td>1.00</td>\n",
       "      <td>-0.03</td>\n",
       "      <td>-0.05</td>\n",
       "      <td>-0.02</td>\n",
       "      <td>-0.17</td>\n",
       "    </tr>\n",
       "    <tr>\n",
       "      <th>clarity</th>\n",
       "      <td>-0.35</td>\n",
       "      <td>0.19</td>\n",
       "      <td>-0.03</td>\n",
       "      <td>1.00</td>\n",
       "      <td>-0.07</td>\n",
       "      <td>-0.16</td>\n",
       "      <td>-0.15</td>\n",
       "    </tr>\n",
       "    <tr>\n",
       "      <th>depth</th>\n",
       "      <td>0.03</td>\n",
       "      <td>-0.22</td>\n",
       "      <td>-0.05</td>\n",
       "      <td>-0.07</td>\n",
       "      <td>1.00</td>\n",
       "      <td>-0.30</td>\n",
       "      <td>-0.02</td>\n",
       "    </tr>\n",
       "    <tr>\n",
       "      <th>table</th>\n",
       "      <td>0.18</td>\n",
       "      <td>-0.43</td>\n",
       "      <td>-0.02</td>\n",
       "      <td>-0.16</td>\n",
       "      <td>-0.30</td>\n",
       "      <td>1.00</td>\n",
       "      <td>0.13</td>\n",
       "    </tr>\n",
       "    <tr>\n",
       "      <th>price</th>\n",
       "      <td>0.92</td>\n",
       "      <td>-0.05</td>\n",
       "      <td>-0.17</td>\n",
       "      <td>-0.15</td>\n",
       "      <td>-0.02</td>\n",
       "      <td>0.13</td>\n",
       "      <td>1.00</td>\n",
       "    </tr>\n",
       "  </tbody>\n",
       "</table>\n",
       "</div>"
      ],
      "text/plain": [
       "         carat   cut  color  clarity  depth  table  price\n",
       "carat     1.00 -0.13  -0.29    -0.35   0.03   0.18   0.92\n",
       "cut      -0.13  1.00   0.02     0.19  -0.22  -0.43  -0.05\n",
       "color    -0.29  0.02   1.00    -0.03  -0.05  -0.02  -0.17\n",
       "clarity  -0.35  0.19  -0.03     1.00  -0.07  -0.16  -0.15\n",
       "depth     0.03 -0.22  -0.05    -0.07   1.00  -0.30  -0.02\n",
       "table     0.18 -0.43  -0.02    -0.16  -0.30   1.00   0.13\n",
       "price     0.92 -0.05  -0.17    -0.15  -0.02   0.13   1.00"
      ]
     },
     "execution_count": 30,
     "metadata": {},
     "output_type": "execute_result"
    }
   ],
   "source": [
    "x = df_train.corr().round(2)\n",
    "x"
   ]
  },
  {
   "cell_type": "markdown",
   "id": "5ecb9ae7",
   "metadata": {},
   "source": [
    "**BUSCAMOS COLINEALIDAD MEDIANTE UN HEATMAP**"
   ]
  },
  {
   "cell_type": "code",
   "execution_count": 31,
   "id": "6103bc14",
   "metadata": {},
   "outputs": [
    {
     "data": {
      "image/png": "[encoded data removed]",
      "text/plain": [
       "<Figure size 864x720 with 2 Axes>"
      ]
     },
     "metadata": {},
     "output_type": "display_data"
    }
   ],
   "source": [
    "maskk = np.triu(np.ones_like(x, dtype=bool)) \n",
    "color_map = sns.diverging_palette(0, 10, as_cmap=True) \n",
    "sns.heatmap(x,  \n",
    "            mask = maskk,\n",
    "            cmap='viridis',\n",
    "            square=True, \n",
    "            linewidth=0.5, \n",
    "            vmax=1,\n",
    "            cbar_kws={\"shrink\": .5}, \n",
    "            annot = True);"
   ]
  },
  {
   "cell_type": "markdown",
   "id": "a4ea21f5",
   "metadata": {},
   "source": [
    "**ENCONTRAMOS UNA COLINEALIDAD ALTÍSIMA ENTRE LOS QUILATES - X,Y,Z.**       \n",
    "**HACEMOS DROP DE LAS TRES, UNA POR UNA PARA VER SI PERDEMOS ALGUNA INFORMACIÓN VALIOSA**"
   ]
  },
  {
   "cell_type": "code",
   "execution_count": 10,
   "id": "c15df79d",
   "metadata": {},
   "outputs": [],
   "source": [
    "x = x.drop(\"x\", axis = 0)\n",
    "x = x.drop(\"x\", axis = 1)"
   ]
  },
  {
   "cell_type": "code",
   "execution_count": 32,
   "id": "05cb77f0",
   "metadata": {},
   "outputs": [
    {
     "data": {
      "image/png": "[encoded data removed]",
      "text/plain": [
       "<Figure size 864x720 with 2 Axes>"
      ]
     },
     "metadata": {},
     "output_type": "display_data"
    }
   ],
   "source": [
    "maskk = np.triu(np.ones_like(x, dtype=bool)) \n",
    "color_map = sns.diverging_palette(0, 10, as_cmap=True) \n",
    "sns.heatmap(x,  \n",
    "            mask = maskk,\n",
    "            cmap='viridis',\n",
    "            square=True, \n",
    "            linewidth=0.5, \n",
    "            vmax=1,\n",
    "            cbar_kws={\"shrink\": .5}, \n",
    "            annot = True);"
   ]
  },
  {
   "cell_type": "code",
   "execution_count": 12,
   "id": "b271f581",
   "metadata": {},
   "outputs": [],
   "source": [
    "x = x.drop(\"y\", axis = 1)\n",
    "x = x.drop(\"y\", axis = 0)"
   ]
  },
  {
   "cell_type": "code",
   "execution_count": 33,
   "id": "2c0c9ad8",
   "metadata": {},
   "outputs": [
    {
     "data": {
      "image/png": "[encoded data removed]",
      "text/plain": [
       "<Figure size 864x720 with 2 Axes>"
      ]
     },
     "metadata": {},
     "output_type": "display_data"
    }
   ],
   "source": [
    "maskk = np.triu(np.ones_like(x, dtype=bool)) \n",
    "color_map = sns.diverging_palette(0, 10, as_cmap=True) \n",
    "sns.heatmap(x,  \n",
    "            mask = maskk,\n",
    "            cmap='viridis',\n",
    "            square=True, \n",
    "            linewidth=0.5, \n",
    "            vmax=1,\n",
    "            cbar_kws={\"shrink\": .5}, \n",
    "            annot = True);"
   ]
  },
  {
   "cell_type": "code",
   "execution_count": 14,
   "id": "268e045a",
   "metadata": {},
   "outputs": [],
   "source": [
    "x = x.drop(\"z\", axis = 1)\n",
    "x = x.drop(\"z\", axis = 0)"
   ]
  },
  {
   "cell_type": "code",
   "execution_count": 34,
   "id": "2915b3b1",
   "metadata": {},
   "outputs": [
    {
     "data": {
      "image/png": "[encoded data removed]",
      "text/plain": [
       "<Figure size 864x720 with 2 Axes>"
      ]
     },
     "metadata": {},
     "output_type": "display_data"
    }
   ],
   "source": [
    "maskk = np.triu(np.ones_like(x, dtype=bool)) \n",
    "color_map = sns.diverging_palette(0, 10, as_cmap=True) \n",
    "sns.heatmap(x,  \n",
    "            mask = maskk,\n",
    "            cmap='viridis',\n",
    "            square=True, \n",
    "            linewidth=0.5, \n",
    "            vmax=1,\n",
    "            cbar_kws={\"shrink\": .5}, \n",
    "            annot = True);"
   ]
  },
  {
   "cell_type": "code",
   "execution_count": 16,
   "id": "4c20aa59",
   "metadata": {},
   "outputs": [
    {
     "data": {
      "text/html": [
       "<div>\n",
       "<style scoped>\n",
       "    .dataframe tbody tr th:only-of-type {\n",
       "        vertical-align: middle;\n",
       "    }\n",
       "\n",
       "    .dataframe tbody tr th {\n",
       "        vertical-align: top;\n",
       "    }\n",
       "\n",
       "    .dataframe thead th {\n",
       "        text-align: right;\n",
       "    }\n",
       "</style>\n",
       "<table border=\"1\" class=\"dataframe\">\n",
       "  <thead>\n",
       "    <tr style=\"text-align: right;\">\n",
       "      <th></th>\n",
       "      <th>carat</th>\n",
       "      <th>cut</th>\n",
       "      <th>color</th>\n",
       "      <th>clarity</th>\n",
       "      <th>depth</th>\n",
       "      <th>table</th>\n",
       "      <th>price</th>\n",
       "    </tr>\n",
       "    <tr>\n",
       "      <th>id</th>\n",
       "      <th></th>\n",
       "      <th></th>\n",
       "      <th></th>\n",
       "      <th></th>\n",
       "      <th></th>\n",
       "      <th></th>\n",
       "      <th></th>\n",
       "    </tr>\n",
       "  </thead>\n",
       "  <tbody>\n",
       "    <tr>\n",
       "      <th>39061</th>\n",
       "      <td>1.13</td>\n",
       "      <td>Ideal</td>\n",
       "      <td>F</td>\n",
       "      <td>SI2</td>\n",
       "      <td>60.4</td>\n",
       "      <td>56.0</td>\n",
       "      <td>4449</td>\n",
       "    </tr>\n",
       "    <tr>\n",
       "      <th>21327</th>\n",
       "      <td>0.31</td>\n",
       "      <td>Ideal</td>\n",
       "      <td>G</td>\n",
       "      <td>VVS2</td>\n",
       "      <td>61.2</td>\n",
       "      <td>54.0</td>\n",
       "      <td>677</td>\n",
       "    </tr>\n",
       "    <tr>\n",
       "      <th>14462</th>\n",
       "      <td>2.02</td>\n",
       "      <td>Very Good</td>\n",
       "      <td>G</td>\n",
       "      <td>SI2</td>\n",
       "      <td>63.3</td>\n",
       "      <td>57.0</td>\n",
       "      <td>9853</td>\n",
       "    </tr>\n",
       "  </tbody>\n",
       "</table>\n",
       "</div>"
      ],
      "text/plain": [
       "       carat        cut color clarity  depth  table  price\n",
       "id                                                        \n",
       "39061   1.13      Ideal     F     SI2   60.4   56.0   4449\n",
       "21327   0.31      Ideal     G    VVS2   61.2   54.0    677\n",
       "14462   2.02  Very Good     G     SI2   63.3   57.0   9853"
      ]
     },
     "execution_count": 16,
     "metadata": {},
     "output_type": "execute_result"
    }
   ],
   "source": [
    "df_train.drop(['x', 'y', 'z'], axis = 1, inplace=True)\n",
    "df_train.sample(3)"
   ]
  },
  {
   "cell_type": "markdown",
   "id": "a8741367",
   "metadata": {},
   "source": [
    "**SABEMOS QUE OCURRE LO MISMO CON TEST DF... LO CAMBIAMOS**"
   ]
  },
  {
   "cell_type": "code",
   "execution_count": 17,
   "id": "579dff91",
   "metadata": {},
   "outputs": [
    {
     "data": {
      "text/html": [
       "<div>\n",
       "<style scoped>\n",
       "    .dataframe tbody tr th:only-of-type {\n",
       "        vertical-align: middle;\n",
       "    }\n",
       "\n",
       "    .dataframe tbody tr th {\n",
       "        vertical-align: top;\n",
       "    }\n",
       "\n",
       "    .dataframe thead th {\n",
       "        text-align: right;\n",
       "    }\n",
       "</style>\n",
       "<table border=\"1\" class=\"dataframe\">\n",
       "  <thead>\n",
       "    <tr style=\"text-align: right;\">\n",
       "      <th></th>\n",
       "      <th>carat</th>\n",
       "      <th>cut</th>\n",
       "      <th>color</th>\n",
       "      <th>clarity</th>\n",
       "      <th>depth</th>\n",
       "      <th>table</th>\n",
       "    </tr>\n",
       "    <tr>\n",
       "      <th>id</th>\n",
       "      <th></th>\n",
       "      <th></th>\n",
       "      <th></th>\n",
       "      <th></th>\n",
       "      <th></th>\n",
       "      <th></th>\n",
       "    </tr>\n",
       "  </thead>\n",
       "  <tbody>\n",
       "    <tr>\n",
       "      <th>10595</th>\n",
       "      <td>1.01</td>\n",
       "      <td>Good</td>\n",
       "      <td>D</td>\n",
       "      <td>SI1</td>\n",
       "      <td>58.4</td>\n",
       "      <td>62.0</td>\n",
       "    </tr>\n",
       "    <tr>\n",
       "      <th>9534</th>\n",
       "      <td>0.30</td>\n",
       "      <td>Ideal</td>\n",
       "      <td>I</td>\n",
       "      <td>VS1</td>\n",
       "      <td>62.4</td>\n",
       "      <td>54.0</td>\n",
       "    </tr>\n",
       "    <tr>\n",
       "      <th>3199</th>\n",
       "      <td>0.25</td>\n",
       "      <td>Very Good</td>\n",
       "      <td>E</td>\n",
       "      <td>VVS2</td>\n",
       "      <td>62.7</td>\n",
       "      <td>59.0</td>\n",
       "    </tr>\n",
       "  </tbody>\n",
       "</table>\n",
       "</div>"
      ],
      "text/plain": [
       "       carat        cut color clarity  depth  table\n",
       "id                                                 \n",
       "10595   1.01       Good     D     SI1   58.4   62.0\n",
       "9534    0.30      Ideal     I     VS1   62.4   54.0\n",
       "3199    0.25  Very Good     E    VVS2   62.7   59.0"
      ]
     },
     "execution_count": 17,
     "metadata": {},
     "output_type": "execute_result"
    }
   ],
   "source": [
    "df_test.drop(['x', 'y', 'z'], axis = 1, inplace=True)\n",
    "df_test.sample(3)"
   ]
  },
  {
   "cell_type": "markdown",
   "id": "b1315115",
   "metadata": {},
   "source": [
    "**CUT / COLOR / CLARITY PARECEN ESTAR RANKEADAS, PODRÍAMOS O BIEN DARLES UN VALOR O HACER UN LABEL_ENCODER**"
   ]
  },
  {
   "cell_type": "markdown",
   "id": "792d0212",
   "metadata": {},
   "source": [
    "**CREAMOS UN DICCIONARIO CON LOS VALORES**"
   ]
  },
  {
   "cell_type": "code",
   "execution_count": 18,
   "id": "318d5ccf",
   "metadata": {},
   "outputs": [],
   "source": [
    "dicc_cut = {\"Ideal\":5 ,\"Premium\":4 ,\"Very Good\":3 ,\"Good\":2 ,\"Fair\":1}\n",
    "dicc_color = {\"G\":4 ,\"E\":6 ,\"F\":5 ,\"H\":3 ,\"D\":7 ,\"I\":2 ,\"J\":1 }\n",
    "dicc_clarity = {\"SI1\":3 ,\"VS2\":4 ,\"SI2\":2 ,\"VS1\":5 ,\"VVS2\":6 ,\"VVS1\":7 ,\"IF\":8 ,\"I1\":1 }"
   ]
  },
  {
   "cell_type": "markdown",
   "id": "daa757ee",
   "metadata": {},
   "source": [
    "**HACEMOS USO DE MAP PARA DARLES ESTOS VALORES EN TRAIN**"
   ]
  },
  {
   "cell_type": "code",
   "execution_count": 19,
   "id": "a3b34470",
   "metadata": {},
   "outputs": [],
   "source": [
    "df_train.cut = df_train.cut.map(dicc_cut)"
   ]
  },
  {
   "cell_type": "code",
   "execution_count": 20,
   "id": "83dac9fe",
   "metadata": {},
   "outputs": [],
   "source": [
    "df_train.color = df_train.color.map(dicc_color)"
   ]
  },
  {
   "cell_type": "code",
   "execution_count": 21,
   "id": "482a3c52",
   "metadata": {},
   "outputs": [],
   "source": [
    "df_train.clarity = df_train.clarity.map(dicc_clarity)"
   ]
  },
  {
   "cell_type": "code",
   "execution_count": 22,
   "id": "fe074ab6",
   "metadata": {},
   "outputs": [
    {
     "data": {
      "text/html": [
       "<div>\n",
       "<style scoped>\n",
       "    .dataframe tbody tr th:only-of-type {\n",
       "        vertical-align: middle;\n",
       "    }\n",
       "\n",
       "    .dataframe tbody tr th {\n",
       "        vertical-align: top;\n",
       "    }\n",
       "\n",
       "    .dataframe thead th {\n",
       "        text-align: right;\n",
       "    }\n",
       "</style>\n",
       "<table border=\"1\" class=\"dataframe\">\n",
       "  <thead>\n",
       "    <tr style=\"text-align: right;\">\n",
       "      <th></th>\n",
       "      <th>carat</th>\n",
       "      <th>cut</th>\n",
       "      <th>color</th>\n",
       "      <th>clarity</th>\n",
       "      <th>depth</th>\n",
       "      <th>table</th>\n",
       "      <th>price</th>\n",
       "    </tr>\n",
       "    <tr>\n",
       "      <th>id</th>\n",
       "      <th></th>\n",
       "      <th></th>\n",
       "      <th></th>\n",
       "      <th></th>\n",
       "      <th></th>\n",
       "      <th></th>\n",
       "      <th></th>\n",
       "    </tr>\n",
       "  </thead>\n",
       "  <tbody>\n",
       "    <tr>\n",
       "      <th>39917</th>\n",
       "      <td>0.60</td>\n",
       "      <td>3</td>\n",
       "      <td>6</td>\n",
       "      <td>5</td>\n",
       "      <td>60.0</td>\n",
       "      <td>58.0</td>\n",
       "      <td>2270</td>\n",
       "    </tr>\n",
       "    <tr>\n",
       "      <th>35893</th>\n",
       "      <td>0.32</td>\n",
       "      <td>3</td>\n",
       "      <td>7</td>\n",
       "      <td>2</td>\n",
       "      <td>62.8</td>\n",
       "      <td>57.0</td>\n",
       "      <td>477</td>\n",
       "    </tr>\n",
       "    <tr>\n",
       "      <th>9624</th>\n",
       "      <td>0.55</td>\n",
       "      <td>3</td>\n",
       "      <td>5</td>\n",
       "      <td>3</td>\n",
       "      <td>60.5</td>\n",
       "      <td>59.0</td>\n",
       "      <td>1370</td>\n",
       "    </tr>\n",
       "  </tbody>\n",
       "</table>\n",
       "</div>"
      ],
      "text/plain": [
       "       carat  cut  color  clarity  depth  table  price\n",
       "id                                                    \n",
       "39917   0.60    3      6        5   60.0   58.0   2270\n",
       "35893   0.32    3      7        2   62.8   57.0    477\n",
       "9624    0.55    3      5        3   60.5   59.0   1370"
      ]
     },
     "execution_count": 22,
     "metadata": {},
     "output_type": "execute_result"
    }
   ],
   "source": [
    "df_train.sample(3)"
   ]
  },
  {
   "cell_type": "markdown",
   "id": "695dd0c2",
   "metadata": {},
   "source": [
    "**HACEMOS LO MISMO PARA DARLES ESTOS VALORES EN TEST**"
   ]
  },
  {
   "cell_type": "code",
   "execution_count": 23,
   "id": "b9f82f1f",
   "metadata": {},
   "outputs": [],
   "source": [
    "df_test.cut = df_test.cut.map(dicc_cut)"
   ]
  },
  {
   "cell_type": "code",
   "execution_count": 24,
   "id": "5becc503",
   "metadata": {},
   "outputs": [],
   "source": [
    "df_test.color = df_test.color.map(dicc_color)"
   ]
  },
  {
   "cell_type": "code",
   "execution_count": 25,
   "id": "6620d921",
   "metadata": {},
   "outputs": [],
   "source": [
    "df_test.clarity = df_test.clarity.map(dicc_clarity)"
   ]
  },
  {
   "cell_type": "code",
   "execution_count": 26,
   "id": "5170c75d",
   "metadata": {},
   "outputs": [
    {
     "data": {
      "text/html": [
       "<div>\n",
       "<style scoped>\n",
       "    .dataframe tbody tr th:only-of-type {\n",
       "        vertical-align: middle;\n",
       "    }\n",
       "\n",
       "    .dataframe tbody tr th {\n",
       "        vertical-align: top;\n",
       "    }\n",
       "\n",
       "    .dataframe thead th {\n",
       "        text-align: right;\n",
       "    }\n",
       "</style>\n",
       "<table border=\"1\" class=\"dataframe\">\n",
       "  <thead>\n",
       "    <tr style=\"text-align: right;\">\n",
       "      <th></th>\n",
       "      <th>carat</th>\n",
       "      <th>cut</th>\n",
       "      <th>color</th>\n",
       "      <th>clarity</th>\n",
       "      <th>depth</th>\n",
       "      <th>table</th>\n",
       "    </tr>\n",
       "    <tr>\n",
       "      <th>id</th>\n",
       "      <th></th>\n",
       "      <th></th>\n",
       "      <th></th>\n",
       "      <th></th>\n",
       "      <th></th>\n",
       "      <th></th>\n",
       "    </tr>\n",
       "  </thead>\n",
       "  <tbody>\n",
       "    <tr>\n",
       "      <th>11500</th>\n",
       "      <td>0.93</td>\n",
       "      <td>5</td>\n",
       "      <td>6</td>\n",
       "      <td>2</td>\n",
       "      <td>60.5</td>\n",
       "      <td>54.0</td>\n",
       "    </tr>\n",
       "    <tr>\n",
       "      <th>9535</th>\n",
       "      <td>0.90</td>\n",
       "      <td>3</td>\n",
       "      <td>3</td>\n",
       "      <td>4</td>\n",
       "      <td>63.3</td>\n",
       "      <td>59.0</td>\n",
       "    </tr>\n",
       "    <tr>\n",
       "      <th>9142</th>\n",
       "      <td>2.02</td>\n",
       "      <td>5</td>\n",
       "      <td>4</td>\n",
       "      <td>2</td>\n",
       "      <td>63.5</td>\n",
       "      <td>54.0</td>\n",
       "    </tr>\n",
       "  </tbody>\n",
       "</table>\n",
       "</div>"
      ],
      "text/plain": [
       "       carat  cut  color  clarity  depth  table\n",
       "id                                             \n",
       "11500   0.93    5      6        2   60.5   54.0\n",
       "9535    0.90    3      3        4   63.3   59.0\n",
       "9142    2.02    5      4        2   63.5   54.0"
      ]
     },
     "execution_count": 26,
     "metadata": {},
     "output_type": "execute_result"
    }
   ],
   "source": [
    "df_test.sample(3)"
   ]
  },
  {
   "cell_type": "markdown",
   "id": "20c09b4c",
   "metadata": {},
   "source": [
    "**EXPORTAMOS LOS DOS CSV LIMPIOS Y LISTOS PARA APLICAR MACHINE LEARNING**"
   ]
  },
  {
   "cell_type": "code",
   "execution_count": 29,
   "id": "3f8f1707",
   "metadata": {},
   "outputs": [],
   "source": [
    "df_train.to_csv(\"../Data/train_c.csv\")\n",
    "df_test.to_csv(\"../Data/test_c.csv\")"
   ]
  }
 ],
 "metadata": {
  "kernelspec": {
   "display_name": "ironhack",
   "language": "python",
   "name": "ironhack"
  },
  "language_info": {
   "codemirror_mode": {
    "name": "ipython",
    "version": 3
   },
   "file_extension": ".py",
   "mimetype": "text/x-python",
   "name": "python",
   "nbconvert_exporter": "python",
   "pygments_lexer": "ipython3",
   "version": "3.8.12"
  }
 },
 "nbformat": 4,
 "nbformat_minor": 5
}
